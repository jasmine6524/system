{
 "cells": [
  {
   "cell_type": "markdown",
   "id": "3421d776",
   "metadata": {},
   "source": [
    "# 数据预处理 "
   ]
  },
  {
   "cell_type": "markdown",
   "id": "79dc6f9f",
   "metadata": {},
   "source": [
    "## 生成图片及csv文件 "
   ]
  },
  {
   "cell_type": "code",
   "execution_count": 14,
   "id": "e4baea92",
   "metadata": {
    "scrolled": true
   },
   "outputs": [
    {
     "ename": "ModuleNotFoundError",
     "evalue": "No module named 'idx2numpy'",
     "output_type": "error",
     "traceback": [
      "\u001b[0;31m---------------------------------------------------------------------------\u001b[0m",
      "\u001b[0;31mModuleNotFoundError\u001b[0m                       Traceback (most recent call last)",
      "\u001b[0;32m<ipython-input-14-44496354ead9>\u001b[0m in \u001b[0;36m<module>\u001b[0;34m\u001b[0m\n\u001b[0;32m----> 1\u001b[0;31m \u001b[0;32mimport\u001b[0m \u001b[0midx2numpy\u001b[0m\u001b[0;34m\u001b[0m\u001b[0;34m\u001b[0m\u001b[0m\n\u001b[0m\u001b[1;32m      2\u001b[0m \u001b[0;32mimport\u001b[0m \u001b[0mnumpy\u001b[0m \u001b[0;32mas\u001b[0m \u001b[0mnp\u001b[0m\u001b[0;34m\u001b[0m\u001b[0;34m\u001b[0m\u001b[0m\n\u001b[1;32m      3\u001b[0m \u001b[0;32mimport\u001b[0m \u001b[0mmatplotlib\u001b[0m\u001b[0;34m.\u001b[0m\u001b[0mpyplot\u001b[0m \u001b[0;32mas\u001b[0m \u001b[0mplt\u001b[0m\u001b[0;34m\u001b[0m\u001b[0;34m\u001b[0m\u001b[0m\n\u001b[1;32m      4\u001b[0m \u001b[0;32mimport\u001b[0m \u001b[0mpandas\u001b[0m \u001b[0;32mas\u001b[0m \u001b[0mpd\u001b[0m\u001b[0;34m\u001b[0m\u001b[0;34m\u001b[0m\u001b[0m\n\u001b[1;32m      5\u001b[0m \u001b[0;32mfrom\u001b[0m \u001b[0mPIL\u001b[0m \u001b[0;32mimport\u001b[0m \u001b[0mImage\u001b[0m\u001b[0;34m\u001b[0m\u001b[0;34m\u001b[0m\u001b[0m\n",
      "\u001b[0;31mModuleNotFoundError\u001b[0m: No module named 'idx2numpy'"
     ]
    }
   ],
   "source": [
    "import idx2numpy"
   ]
  },
  {
   "cell_type": "code",
   "execution_count": 7,
   "id": "5d0d7bef",
   "metadata": {},
   "outputs": [],
   "source": [
    "import numpy as np\n",
    "import matplotlib.pyplot as plt"
   ]
  },
  {
   "cell_type": "code",
   "execution_count": 8,
   "id": "4a5f3380",
   "metadata": {},
   "outputs": [],
   "source": [
    "import pandas as pd\n",
    "from PIL import Image"
   ]
  },
  {
   "cell_type": "code",
   "execution_count": 9,
   "id": "ff5aa271",
   "metadata": {},
   "outputs": [],
   "source": [
    "train_imgs_path = 'train-images.idx3-ubyte'\n",
    "train_labels_path = 'train-labels.idx1-ubyte'\n",
    "test_imgs_path = 't10k-images.idx3-ubyte'\n",
    "test_labels_path = 't10k-labels.idx1-ubyte'"
   ]
  },
  {
   "cell_type": "code",
   "execution_count": 7,
   "id": "d3d5923f",
   "metadata": {},
   "outputs": [
    {
     "ename": "NameError",
     "evalue": "name 'idx2numpy' is not defined",
     "output_type": "error",
     "traceback": [
      "\u001b[0;31m---------------------------------------------------------------------------\u001b[0m",
      "\u001b[0;31mNameError\u001b[0m                                 Traceback (most recent call last)",
      "\u001b[0;32m<ipython-input-7-3c56ac25baae>\u001b[0m in \u001b[0;36m<module>\u001b[0;34m\u001b[0m\n\u001b[0;32m----> 1\u001b[0;31m \u001b[0mimgs\u001b[0m \u001b[0;34m=\u001b[0m \u001b[0midx2numpy\u001b[0m\u001b[0;34m.\u001b[0m\u001b[0mconvert_from_file\u001b[0m\u001b[0;34m(\u001b[0m\u001b[0mtrain_imgs_path\u001b[0m\u001b[0;34m)\u001b[0m\u001b[0;34m\u001b[0m\u001b[0;34m\u001b[0m\u001b[0m\n\u001b[0m\u001b[1;32m      2\u001b[0m \u001b[0mlabels\u001b[0m \u001b[0;34m=\u001b[0m \u001b[0midx2numpy\u001b[0m\u001b[0;34m.\u001b[0m\u001b[0mconvert_from_file\u001b[0m\u001b[0;34m(\u001b[0m\u001b[0mtrain_labels_path\u001b[0m\u001b[0;34m)\u001b[0m\u001b[0;34m\u001b[0m\u001b[0;34m\u001b[0m\u001b[0m\n\u001b[1;32m      3\u001b[0m \u001b[0;34m\u001b[0m\u001b[0m\n\u001b[1;32m      4\u001b[0m \u001b[0mtest_imgs\u001b[0m \u001b[0;34m=\u001b[0m \u001b[0midx2numpy\u001b[0m\u001b[0;34m.\u001b[0m\u001b[0mconvert_from_file\u001b[0m\u001b[0;34m(\u001b[0m\u001b[0mtest_imgs_path\u001b[0m\u001b[0;34m)\u001b[0m\u001b[0;34m\u001b[0m\u001b[0;34m\u001b[0m\u001b[0m\n\u001b[1;32m      5\u001b[0m \u001b[0mtest_labels\u001b[0m \u001b[0;34m=\u001b[0m \u001b[0midx2numpy\u001b[0m\u001b[0;34m.\u001b[0m\u001b[0mconvert_from_file\u001b[0m\u001b[0;34m(\u001b[0m\u001b[0mtest_labels_path\u001b[0m\u001b[0;34m)\u001b[0m\u001b[0;34m\u001b[0m\u001b[0;34m\u001b[0m\u001b[0m\n",
      "\u001b[0;31mNameError\u001b[0m: name 'idx2numpy' is not defined"
     ]
    }
   ],
   "source": [
    "imgs = idx2numpy.convert_from_file(train_imgs_path)\n",
    "labels = idx2numpy.convert_from_file(train_labels_path)\n",
    "\n",
    "test_imgs = idx2numpy.convert_from_file(test_imgs_path)\n",
    "test_labels = idx2numpy.convert_from_file(test_labels_path)"
   ]
  },
  {
   "cell_type": "code",
   "execution_count": 8,
   "id": "7118b490",
   "metadata": {},
   "outputs": [
    {
     "ename": "NameError",
     "evalue": "name 'labels' is not defined",
     "output_type": "error",
     "traceback": [
      "\u001b[0;31m---------------------------------------------------------------------------\u001b[0m",
      "\u001b[0;31mNameError\u001b[0m                                 Traceback (most recent call last)",
      "\u001b[0;32m<ipython-input-8-e60f3a3e1958>\u001b[0m in \u001b[0;36m<module>\u001b[0;34m\u001b[0m\n\u001b[0;32m----> 1\u001b[0;31m \u001b[0mtype\u001b[0m\u001b[0;34m(\u001b[0m\u001b[0mlabels\u001b[0m\u001b[0;34m)\u001b[0m\u001b[0;34m\u001b[0m\u001b[0;34m\u001b[0m\u001b[0m\n\u001b[0m\u001b[1;32m      2\u001b[0m \u001b[0mprint\u001b[0m\u001b[0;34m(\u001b[0m\u001b[0mtest_imgs\u001b[0m\u001b[0;34m.\u001b[0m\u001b[0mshape\u001b[0m\u001b[0;34m)\u001b[0m\u001b[0;34m\u001b[0m\u001b[0;34m\u001b[0m\u001b[0m\n",
      "\u001b[0;31mNameError\u001b[0m: name 'labels' is not defined"
     ]
    }
   ],
   "source": [
    "type(labels)\n",
    "print(test_imgs.shape)"
   ]
  },
  {
   "cell_type": "code",
   "execution_count": 9,
   "id": "3c1ca516",
   "metadata": {},
   "outputs": [],
   "source": [
    "# 1.有一个img-->label的csv\n",
    "# 2.在当前目录下存在一个包含所有图片的文件夹，images\n",
    "def convert(imgs, labels, output_folder, output_file):\n",
    "    df = pd.DataFrame()\n",
    "    img_name  = []\n",
    "    img_label = []\n",
    "    for i in range (imgs.shape[0]):\n",
    "        array = imgs[i]\n",
    "        img = Image.fromarray(array)\n",
    "        img.save('{}/{}.jpg'.format(output_folder, i))\n",
    "        img_name.append(i)\n",
    "        img_label.append(labels[i])\n",
    "    df['name'] = pd.Series(img_name)\n",
    "    df['label'] = pd.Series(img_label)\n",
    "    df.to_csv(output_file, header=None, index=False)"
   ]
  },
  {
   "cell_type": "code",
   "execution_count": 10,
   "id": "25ea07b7",
   "metadata": {},
   "outputs": [
    {
     "ename": "NameError",
     "evalue": "name 'imgs' is not defined",
     "output_type": "error",
     "traceback": [
      "\u001b[0;31m---------------------------------------------------------------------------\u001b[0m",
      "\u001b[0;31mNameError\u001b[0m                                 Traceback (most recent call last)",
      "\u001b[0;32m<ipython-input-10-698fc000f5fb>\u001b[0m in \u001b[0;36m<module>\u001b[0;34m\u001b[0m\n\u001b[0;32m----> 1\u001b[0;31m \u001b[0mconvert\u001b[0m\u001b[0;34m(\u001b[0m\u001b[0mimgs\u001b[0m\u001b[0;34m,\u001b[0m\u001b[0mlabels\u001b[0m\u001b[0;34m,\u001b[0m\u001b[0;34m'train_images'\u001b[0m\u001b[0;34m,\u001b[0m\u001b[0;34m'train.csv'\u001b[0m\u001b[0;34m)\u001b[0m\u001b[0;34m\u001b[0m\u001b[0;34m\u001b[0m\u001b[0m\n\u001b[0m",
      "\u001b[0;31mNameError\u001b[0m: name 'imgs' is not defined"
     ]
    }
   ],
   "source": [
    "convert(imgs,labels,'train_images','train.csv')"
   ]
  },
  {
   "cell_type": "code",
   "execution_count": 11,
   "id": "589eb9ed",
   "metadata": {},
   "outputs": [
    {
     "ename": "NameError",
     "evalue": "name 'test_imgs' is not defined",
     "output_type": "error",
     "traceback": [
      "\u001b[0;31m---------------------------------------------------------------------------\u001b[0m",
      "\u001b[0;31mNameError\u001b[0m                                 Traceback (most recent call last)",
      "\u001b[0;32m<ipython-input-11-6bf639ec17c2>\u001b[0m in \u001b[0;36m<module>\u001b[0;34m\u001b[0m\n\u001b[0;32m----> 1\u001b[0;31m \u001b[0mconvert\u001b[0m\u001b[0;34m(\u001b[0m\u001b[0mtest_imgs\u001b[0m\u001b[0;34m,\u001b[0m \u001b[0mtest_labels\u001b[0m\u001b[0;34m,\u001b[0m \u001b[0;34m'test_images'\u001b[0m\u001b[0;34m,\u001b[0m \u001b[0;34m'test.csv'\u001b[0m\u001b[0;34m)\u001b[0m\u001b[0;34m\u001b[0m\u001b[0;34m\u001b[0m\u001b[0m\n\u001b[0m",
      "\u001b[0;31mNameError\u001b[0m: name 'test_imgs' is not defined"
     ]
    }
   ],
   "source": [
    "convert(test_imgs, test_labels, 'test_images', 'test.csv')"
   ]
  },
  {
   "cell_type": "markdown",
   "id": "68e9bd17",
   "metadata": {},
   "source": [
    "## 自定义数据集 "
   ]
  },
  {
   "cell_type": "code",
   "execution_count": 10,
   "id": "cba31add",
   "metadata": {},
   "outputs": [],
   "source": [
    "import torch.utils.data as data"
   ]
  },
  {
   "cell_type": "code",
   "execution_count": 11,
   "id": "bcd0f142",
   "metadata": {},
   "outputs": [],
   "source": [
    "class my_dataset (data.Dataset):\n",
    "    def __init__(self, path, name, transform=None):\n",
    "        self.path = path\n",
    "        self.name = name\n",
    "        self.trans = transform\n",
    "        self.data = pd.read_csv(self.name,header=None)\n",
    "    def __getitem__ (self,index):\n",
    "        label = self.data.loc[index].values[1]\n",
    "        name = self.data.loc[index].values[0]\n",
    "        img = Image.open(self.path + str(name) + '.jpg')\n",
    "        if self.trans is not None:\n",
    "            img = self.trans(img)\n",
    "        return img, label\n",
    "    def __len__ (self):\n",
    "        return self.data.shape[0]"
   ]
  },
  {
   "cell_type": "code",
   "execution_count": 12,
   "id": "1cd690d6",
   "metadata": {},
   "outputs": [
    {
     "data": {
      "text/plain": [
       "60000"
      ]
     },
     "execution_count": 12,
     "metadata": {},
     "output_type": "execute_result"
    }
   ],
   "source": [
    "dataset = my_dataset ('train_images/','train.csv')\n",
    "img, label = dataset.__getitem__(0)\n",
    "dataset.__len__()"
   ]
  },
  {
   "cell_type": "code",
   "execution_count": 13,
   "id": "513684be",
   "metadata": {},
   "outputs": [
    {
     "name": "stdout",
     "output_type": "stream",
     "text": [
      "5\n"
     ]
    }
   ],
   "source": [
    "print(label)\n",
    "img.show()"
   ]
  },
  {
   "cell_type": "code",
   "execution_count": 14,
   "id": "d5b22d82",
   "metadata": {},
   "outputs": [
    {
     "data": {
      "text/plain": [
       "'L'"
      ]
     },
     "execution_count": 14,
     "metadata": {},
     "output_type": "execute_result"
    }
   ],
   "source": [
    "img.mode"
   ]
  },
  {
   "cell_type": "markdown",
   "id": "709e40a5",
   "metadata": {},
   "source": [
    "# 定义模型 "
   ]
  },
  {
   "cell_type": "code",
   "execution_count": 15,
   "id": "18d8f46f",
   "metadata": {},
   "outputs": [],
   "source": [
    "import torch.nn as nn\n",
    "import torch.nn.functional as F"
   ]
  },
  {
   "cell_type": "code",
   "execution_count": 16,
   "id": "c2a761ab",
   "metadata": {},
   "outputs": [],
   "source": [
    "class LeNet(nn.Module):\n",
    "    def __init__(self, class_num=10):\n",
    "        super(LeNet, self).__init__()\n",
    "        # input: 1 x 28 x 28 \n",
    "        self.conv1 = nn.Conv2d(in_channels=1, out_channels=16, kernel_size=5, stride=1, padding=0)\n",
    "        # output: 16 x 24 x 24\n",
    "        self.pool2 = nn.MaxPool2d(kernel_size=2, stride=2, padding=0)\n",
    "        # output: 16 x 12 x 12\n",
    "        self.conv3 = nn.Conv2d(in_channels=16, out_channels=32, kernel_size=5, stride=1, padding=0)\n",
    "        # output: 32 x 8 x 8\n",
    "        self.pool4 = nn.MaxPool2d(kernel_size=2, stride=2, padding=0)\n",
    "        # output: 32 x 4 x 4\n",
    "        self.fc5 = nn.Linear(32*4*4, 128)\n",
    "        # output: 128\n",
    "        self.fc6 = nn.Linear(128, 64)\n",
    "        # output: 64\n",
    "        self.fc7 = nn.Linear(64, class_num)\n",
    "        \n",
    "    # 正向传播过程\n",
    "    def forward(self, x):\n",
    "        # 1 x 28 x 28\n",
    "        # 一般在卷积层和池化层之间使用激活函数\n",
    "        x = self.conv1(x)\n",
    "        x = F.relu(x)\n",
    "        x = self.pool2(x)\n",
    "        \n",
    "        x = self.conv3(x)\n",
    "        x = F.relu(x)\n",
    "        x = self.pool4(x)\n",
    "        \n",
    "        x = x.reshape(-1, 32*4*4)\n",
    "        x = self.fc5(x)\n",
    "        x = F.relu(x)\n",
    "        \n",
    "        x = self.fc6(x)\n",
    "        x = F.relu(x)\n",
    "        x = self.fc7(x)\n",
    "        \n",
    "        return x"
   ]
  },
  {
   "cell_type": "code",
   "execution_count": 17,
   "id": "fd0efe13",
   "metadata": {},
   "outputs": [
    {
     "data": {
      "text/plain": [
       "LeNet(\n",
       "  (conv1): Conv2d(1, 16, kernel_size=(5, 5), stride=(1, 1))\n",
       "  (pool2): MaxPool2d(kernel_size=2, stride=2, padding=0, dilation=1, ceil_mode=False)\n",
       "  (conv3): Conv2d(16, 32, kernel_size=(5, 5), stride=(1, 1))\n",
       "  (pool4): MaxPool2d(kernel_size=2, stride=2, padding=0, dilation=1, ceil_mode=False)\n",
       "  (fc5): Linear(in_features=512, out_features=128, bias=True)\n",
       "  (fc6): Linear(in_features=128, out_features=64, bias=True)\n",
       "  (fc7): Linear(in_features=64, out_features=10, bias=True)\n",
       ")"
      ]
     },
     "execution_count": 17,
     "metadata": {},
     "output_type": "execute_result"
    }
   ],
   "source": [
    "model = LeNet(10)\n",
    "model"
   ]
  },
  {
   "cell_type": "markdown",
   "id": "66a3a04d",
   "metadata": {},
   "source": [
    "# 训练模型"
   ]
  },
  {
   "cell_type": "code",
   "execution_count": 18,
   "id": "22dcc6a3",
   "metadata": {},
   "outputs": [],
   "source": [
    "import torchvision.transforms as T"
   ]
  },
  {
   "cell_type": "markdown",
   "id": "ec7fc911",
   "metadata": {},
   "source": [
    "## 创建dataset "
   ]
  },
  {
   "cell_type": "code",
   "execution_count": 19,
   "id": "2ab5200e",
   "metadata": {},
   "outputs": [],
   "source": [
    "# 创建一个transform\n",
    "transform = T.Compose([\n",
    "    T.ToTensor()\n",
    "])\n",
    "\n",
    "train_dataset = my_dataset('train_images/', 'train.csv', transform=transform)\n",
    "test_dataset = my_dataset('test_images/', 'test.csv', transform=transform)"
   ]
  },
  {
   "cell_type": "code",
   "execution_count": 20,
   "id": "d7facf65",
   "metadata": {},
   "outputs": [
    {
     "name": "stdout",
     "output_type": "stream",
     "text": [
      "60000\n",
      "10000\n"
     ]
    }
   ],
   "source": [
    "print(train_dataset.__len__())\n",
    "print(test_dataset.__len__())"
   ]
  },
  {
   "cell_type": "code",
   "execution_count": 21,
   "id": "4067ab95",
   "metadata": {},
   "outputs": [],
   "source": [
    "# train_dataset.__getitem__(0)\n",
    "img, label = test_dataset.__getitem__(0)"
   ]
  },
  {
   "cell_type": "code",
   "execution_count": 22,
   "id": "74d91dfd",
   "metadata": {},
   "outputs": [
    {
     "data": {
      "text/plain": [
       "torch.Size([1, 28, 28])"
      ]
     },
     "execution_count": 22,
     "metadata": {},
     "output_type": "execute_result"
    }
   ],
   "source": [
    "img.shape"
   ]
  },
  {
   "cell_type": "code",
   "execution_count": 23,
   "id": "5dcf40df",
   "metadata": {},
   "outputs": [
    {
     "data": {
      "text/plain": [
       "tensor([[[0.0000, 0.0039, 0.0039, 0.0000, 0.0000, 0.0118, 0.0039, 0.0000,\n",
       "          0.0000, 0.0000, 0.0157, 0.0157, 0.0078, 0.0000, 0.0000, 0.0000,\n",
       "          0.0000, 0.0000, 0.0000, 0.0000, 0.0000, 0.0000, 0.0000, 0.0000,\n",
       "          0.0000, 0.0000, 0.0000, 0.0000],\n",
       "         [0.0000, 0.0000, 0.0039, 0.0000, 0.0000, 0.0000, 0.0000, 0.0118,\n",
       "          0.0000, 0.0000, 0.0000, 0.0000, 0.0000, 0.0000, 0.0118, 0.0275,\n",
       "          0.0000, 0.0000, 0.0000, 0.0000, 0.0000, 0.0000, 0.0000, 0.0000,\n",
       "          0.0000, 0.0000, 0.0000, 0.0000],\n",
       "         [0.0039, 0.0000, 0.0000, 0.0235, 0.0431, 0.0196, 0.0118, 0.0235,\n",
       "          0.0157, 0.0157, 0.0118, 0.0078, 0.0039, 0.0000, 0.0000, 0.0000,\n",
       "          0.0000, 0.0000, 0.0000, 0.0000, 0.0000, 0.0000, 0.0000, 0.0000,\n",
       "          0.0000, 0.0000, 0.0000, 0.0000],\n",
       "         [0.0196, 0.0039, 0.0000, 0.0000, 0.0000, 0.0000, 0.0000, 0.0000,\n",
       "          0.0000, 0.0000, 0.0000, 0.0000, 0.0118, 0.0118, 0.0078, 0.0000,\n",
       "          0.0000, 0.0000, 0.0000, 0.0000, 0.0000, 0.0000, 0.0000, 0.0000,\n",
       "          0.0000, 0.0000, 0.0000, 0.0000],\n",
       "         [0.0000, 0.0235, 0.0275, 0.0000, 0.0000, 0.0000, 0.0275, 0.0275,\n",
       "          0.0314, 0.0157, 0.0000, 0.0000, 0.0000, 0.0078, 0.0118, 0.0118,\n",
       "          0.0000, 0.0000, 0.0000, 0.0000, 0.0000, 0.0000, 0.0000, 0.0000,\n",
       "          0.0000, 0.0000, 0.0000, 0.0000],\n",
       "         [0.0000, 0.0000, 0.0000, 0.0000, 0.0235, 0.0392, 0.0000, 0.0000,\n",
       "          0.0000, 0.0000, 0.0000, 0.0000, 0.0078, 0.0078, 0.0000, 0.0000,\n",
       "          0.0000, 0.0000, 0.0000, 0.0000, 0.0000, 0.0000, 0.0000, 0.0000,\n",
       "          0.0000, 0.0000, 0.0000, 0.0000],\n",
       "         [0.0392, 0.0000, 0.0000, 0.0000, 0.0000, 0.0000, 0.0000, 0.0275,\n",
       "          0.0431, 0.0196, 0.0000, 0.0000, 0.0000, 0.0078, 0.0000, 0.0000,\n",
       "          0.0000, 0.0000, 0.0000, 0.0000, 0.0000, 0.0000, 0.0000, 0.0000,\n",
       "          0.0000, 0.0000, 0.0000, 0.0000],\n",
       "         [0.0000, 0.0000, 0.0196, 0.0275, 0.0000, 0.0157, 0.3412, 0.7098,\n",
       "          0.6314, 0.4980, 0.2980, 0.1216, 0.0196, 0.0000, 0.0000, 0.0118,\n",
       "          0.0000, 0.0000, 0.0000, 0.0000, 0.0000, 0.0000, 0.0000, 0.0000,\n",
       "          0.0000, 0.0000, 0.0000, 0.0000],\n",
       "         [0.0000, 0.0078, 0.0078, 0.0039, 0.0039, 0.0000, 0.8627, 1.0000,\n",
       "          0.9647, 1.0000, 0.9647, 0.9647, 0.8157, 0.7647, 0.7490, 0.7647,\n",
       "          0.7412, 0.7922, 0.7725, 0.8431, 0.6392, 0.1686, 0.0235, 0.0000,\n",
       "          0.0000, 0.0000, 0.0000, 0.0000],\n",
       "         [0.0196, 0.0000, 0.0118, 0.0000, 0.0000, 0.0000, 0.3843, 0.4078,\n",
       "          0.3098, 0.4431, 0.6314, 0.8549, 0.9647, 0.9412, 1.0000, 1.0000,\n",
       "          1.0000, 1.0000, 0.8902, 0.9098, 1.0000, 0.5451, 0.0157, 0.0078,\n",
       "          0.0000, 0.0000, 0.0000, 0.0000],\n",
       "         [0.0275, 0.0000, 0.0275, 0.0000, 0.0118, 0.0000, 0.0078, 0.0039,\n",
       "          0.0000, 0.0000, 0.0392, 0.1059, 0.1922, 0.0863, 0.2000, 0.2392,\n",
       "          0.2235, 0.2353, 0.0471, 0.9529, 1.0000, 0.4353, 0.0000, 0.0471,\n",
       "          0.0000, 0.0000, 0.0000, 0.0000],\n",
       "         [0.0039, 0.0000, 0.0235, 0.0000, 0.0039, 0.0118, 0.0000, 0.0118,\n",
       "          0.0039, 0.0000, 0.0000, 0.0118, 0.0510, 0.0000, 0.0431, 0.0549,\n",
       "          0.0510, 0.0000, 0.3216, 0.9804, 0.7647, 0.0431, 0.0392, 0.0000,\n",
       "          0.0000, 0.0000, 0.0000, 0.0000],\n",
       "         [0.0000, 0.0314, 0.0000, 0.0000, 0.0000, 0.0000, 0.0000, 0.0392,\n",
       "          0.0000, 0.0314, 0.0000, 0.0235, 0.0000, 0.0000, 0.0000, 0.0000,\n",
       "          0.0000, 0.0431, 0.9098, 1.0000, 0.3647, 0.0000, 0.0471, 0.0275,\n",
       "          0.0000, 0.0000, 0.0000, 0.0000],\n",
       "         [0.0000, 0.0353, 0.0000, 0.0039, 0.0275, 0.0000, 0.0000, 0.0000,\n",
       "          0.0000, 0.0549, 0.0000, 0.0000, 0.0000, 0.0275, 0.0431, 0.0235,\n",
       "          0.0000, 0.5137, 1.0000, 0.9255, 0.1137, 0.0314, 0.0000, 0.0000,\n",
       "          0.0000, 0.0000, 0.0000, 0.0000],\n",
       "         [0.0000, 0.0000, 0.0000, 0.0000, 0.0314, 0.0000, 0.0235, 0.0000,\n",
       "          0.0000, 0.0157, 0.0000, 0.0235, 0.0118, 0.0000, 0.0078, 0.0000,\n",
       "          0.2353, 0.9804, 0.9843, 0.2353, 0.0157, 0.0000, 0.1059, 0.0000,\n",
       "          0.0000, 0.0000, 0.0000, 0.0000],\n",
       "         [0.0157, 0.0000, 0.0431, 0.0000, 0.0000, 0.0000, 0.0196, 0.0157,\n",
       "          0.0078, 0.0000, 0.0000, 0.0000, 0.0431, 0.0000, 0.0196, 0.0039,\n",
       "          0.5255, 0.9725, 0.7647, 0.0000, 0.0392, 0.0000, 0.0000, 0.0353,\n",
       "          0.0000, 0.0000, 0.0000, 0.0000],\n",
       "         [0.0000, 0.0000, 0.0000, 0.0000, 0.0000, 0.0000, 0.0000, 0.0000,\n",
       "          0.0118, 0.0000, 0.0431, 0.0118, 0.0000, 0.0000, 0.0000, 0.0392,\n",
       "          0.8039, 0.9804, 0.2314, 0.0000, 0.0000, 0.0039, 0.0039, 0.0157,\n",
       "          0.0000, 0.0000, 0.0000, 0.0000],\n",
       "         [0.0000, 0.0000, 0.0000, 0.0000, 0.0000, 0.0000, 0.0000, 0.0000,\n",
       "          0.0157, 0.0000, 0.0000, 0.0549, 0.0000, 0.0588, 0.0000, 0.5294,\n",
       "          0.9961, 0.6627, 0.0627, 0.0000, 0.0118, 0.0118, 0.0000, 0.0196,\n",
       "          0.0000, 0.0000, 0.0000, 0.0000],\n",
       "         [0.0000, 0.0000, 0.0000, 0.0000, 0.0000, 0.0000, 0.0000, 0.0000,\n",
       "          0.0000, 0.0549, 0.0000, 0.0000, 0.0510, 0.0235, 0.2000, 0.9961,\n",
       "          0.9647, 0.2706, 0.0000, 0.0000, 0.0157, 0.0235, 0.0000, 0.0118,\n",
       "          0.0000, 0.0000, 0.0000, 0.0000],\n",
       "         [0.0000, 0.0000, 0.0000, 0.0000, 0.0000, 0.0000, 0.0000, 0.0000,\n",
       "          0.0118, 0.0000, 0.0000, 0.0824, 0.0000, 0.0902, 0.9294, 0.9882,\n",
       "          0.5765, 0.0353, 0.0000, 0.0000, 0.0000, 0.0118, 0.0039, 0.0000,\n",
       "          0.0000, 0.0000, 0.0000, 0.0000],\n",
       "         [0.0000, 0.0000, 0.0000, 0.0000, 0.0000, 0.0000, 0.0000, 0.0000,\n",
       "          0.0275, 0.0000, 0.0667, 0.0000, 0.0000, 0.8039, 0.9804, 0.8627,\n",
       "          0.1686, 0.0000, 0.0275, 0.0000, 0.0157, 0.0000, 0.0235, 0.0039,\n",
       "          0.0000, 0.0000, 0.0000, 0.0000],\n",
       "         [0.0000, 0.0000, 0.0000, 0.0000, 0.0000, 0.0000, 0.0000, 0.0000,\n",
       "          0.0235, 0.0000, 0.0000, 0.0588, 0.2784, 0.9608, 1.0000, 0.2745,\n",
       "          0.0118, 0.0000, 0.0000, 0.0000, 0.0431, 0.0000, 0.0000, 0.0118,\n",
       "          0.0000, 0.0000, 0.0000, 0.0000],\n",
       "         [0.0000, 0.0000, 0.0000, 0.0000, 0.0000, 0.0000, 0.0000, 0.0000,\n",
       "          0.0000, 0.0431, 0.0000, 0.1216, 0.8078, 0.9765, 0.4941, 0.0000,\n",
       "          0.0157, 0.0000, 0.0000, 0.0000, 0.0275, 0.0000, 0.0000, 0.0039,\n",
       "          0.0000, 0.0000, 0.0000, 0.0000],\n",
       "         [0.0000, 0.0000, 0.0000, 0.0000, 0.0000, 0.0000, 0.0000, 0.0000,\n",
       "          0.0078, 0.0000, 0.0471, 0.4863, 1.0000, 1.0000, 0.1843, 0.0000,\n",
       "          0.0196, 0.0000, 0.0510, 0.0000, 0.0000, 0.0431, 0.0000, 0.0000,\n",
       "          0.0000, 0.0000, 0.0000, 0.0000],\n",
       "         [0.0000, 0.0000, 0.0000, 0.0000, 0.0000, 0.0000, 0.0000, 0.0000,\n",
       "          0.0235, 0.0000, 0.2863, 0.9216, 0.9725, 0.9843, 0.2078, 0.0275,\n",
       "          0.0000, 0.0000, 0.0000, 0.0000, 0.0000, 0.0000, 0.0000, 0.0000,\n",
       "          0.0000, 0.0000, 0.0000, 0.0000],\n",
       "         [0.0000, 0.0000, 0.0000, 0.0000, 0.0000, 0.0000, 0.0000, 0.0000,\n",
       "          0.0000, 0.0431, 0.4627, 0.9804, 1.0000, 0.8706, 0.2039, 0.0000,\n",
       "          0.0000, 0.0000, 0.0000, 0.0000, 0.0000, 0.0000, 0.0000, 0.0000,\n",
       "          0.0000, 0.0000, 0.0000, 0.0000],\n",
       "         [0.0000, 0.0000, 0.0000, 0.0000, 0.0000, 0.0000, 0.0000, 0.0000,\n",
       "          0.0000, 0.0000, 0.4980, 1.0000, 0.8118, 0.1294, 0.0000, 0.0941,\n",
       "          0.0000, 0.0000, 0.0000, 0.0000, 0.0000, 0.0000, 0.0000, 0.0000,\n",
       "          0.0000, 0.0000, 0.0000, 0.0000],\n",
       "         [0.0000, 0.0000, 0.0000, 0.0000, 0.0000, 0.0000, 0.0000, 0.0000,\n",
       "          0.0392, 0.0000, 0.0000, 0.0000, 0.0000, 0.0000, 0.0314, 0.0000,\n",
       "          0.0000, 0.0000, 0.0000, 0.0000, 0.0000, 0.0000, 0.0000, 0.0000,\n",
       "          0.0000, 0.0000, 0.0000, 0.0000]]])"
      ]
     },
     "execution_count": 23,
     "metadata": {},
     "output_type": "execute_result"
    }
   ],
   "source": [
    "img"
   ]
  },
  {
   "cell_type": "markdown",
   "id": "061d5400",
   "metadata": {},
   "source": [
    "## 创建dataloader "
   ]
  },
  {
   "cell_type": "code",
   "execution_count": 24,
   "id": "d1915340",
   "metadata": {},
   "outputs": [],
   "source": [
    "import torch.utils.data as data"
   ]
  },
  {
   "cell_type": "code",
   "execution_count": 25,
   "id": "7ec7ea87",
   "metadata": {},
   "outputs": [
    {
     "name": "stdout",
     "output_type": "stream",
     "text": [
      "1875\n"
     ]
    },
    {
     "data": {
      "text/plain": [
       "313"
      ]
     },
     "execution_count": 25,
     "metadata": {},
     "output_type": "execute_result"
    }
   ],
   "source": [
    "# 创建loader\n",
    "train_dataloader = data.DataLoader(train_dataset, batch_size=32, shuffle=True)\n",
    "test_dataloader = data.DataLoader(test_dataset, batch_size=32, shuffle=True)\n",
    "print(len(train_dataloader))\n",
    "len(test_dataloader)"
   ]
  },
  {
   "cell_type": "code",
   "execution_count": 26,
   "id": "5e3e5c43",
   "metadata": {},
   "outputs": [
    {
     "name": "stdout",
     "output_type": "stream",
     "text": [
      "torch.Size([32, 1, 28, 28])\n",
      "torch.Size([32])\n"
     ]
    }
   ],
   "source": [
    "# 测试数据加载器\n",
    "imgs, labels = next(iter(train_dataloader))\n",
    "print(imgs.shape)\n",
    "print(labels.shape)"
   ]
  },
  {
   "cell_type": "code",
   "execution_count": 27,
   "id": "8cbe1ce1",
   "metadata": {},
   "outputs": [
    {
     "name": "stdout",
     "output_type": "stream",
     "text": [
      "torch.Size([32, 1, 28, 28])\n",
      "torch.Size([32])\n"
     ]
    }
   ],
   "source": [
    "imgs, labels = next(iter(test_dataloader))\n",
    "print(imgs.shape)\n",
    "print(labels.shape)"
   ]
  },
  {
   "cell_type": "markdown",
   "id": "ccbf3424",
   "metadata": {},
   "source": [
    "## 训练模型"
   ]
  },
  {
   "cell_type": "code",
   "execution_count": 28,
   "id": "b3d839ea",
   "metadata": {},
   "outputs": [],
   "source": [
    "import torch\n",
    "import torch.optim as optim"
   ]
  },
  {
   "cell_type": "code",
   "execution_count": 29,
   "id": "37314cdd",
   "metadata": {},
   "outputs": [
    {
     "data": {
      "text/plain": [
       "device(type='cpu')"
      ]
     },
     "execution_count": 29,
     "metadata": {},
     "output_type": "execute_result"
    }
   ],
   "source": [
    "device = torch.device('cuda:0' if torch.cuda.is_available() else 'cpu')\n",
    "device"
   ]
  },
  {
   "cell_type": "code",
   "execution_count": 30,
   "id": "36fe2279",
   "metadata": {},
   "outputs": [
    {
     "data": {
      "text/plain": [
       "LeNet(\n",
       "  (conv1): Conv2d(1, 16, kernel_size=(5, 5), stride=(1, 1))\n",
       "  (pool2): MaxPool2d(kernel_size=2, stride=2, padding=0, dilation=1, ceil_mode=False)\n",
       "  (conv3): Conv2d(16, 32, kernel_size=(5, 5), stride=(1, 1))\n",
       "  (pool4): MaxPool2d(kernel_size=2, stride=2, padding=0, dilation=1, ceil_mode=False)\n",
       "  (fc5): Linear(in_features=512, out_features=128, bias=True)\n",
       "  (fc6): Linear(in_features=128, out_features=64, bias=True)\n",
       "  (fc7): Linear(in_features=64, out_features=10, bias=True)\n",
       ")"
      ]
     },
     "execution_count": 30,
     "metadata": {},
     "output_type": "execute_result"
    }
   ],
   "source": [
    "model = LeNet(10).to(device)\n",
    "model"
   ]
  },
  {
   "cell_type": "code",
   "execution_count": 31,
   "id": "e3b46860",
   "metadata": {},
   "outputs": [],
   "source": [
    "# 首先定义一些参数\n",
    "epochs = 10\n",
    "learning_rate = 0.01\n",
    "# loss function:损失函数\n",
    "criterion = nn.CrossEntropyLoss()\n",
    "\n",
    "# optimizer-->优化器-->作用：更新参数\n",
    "optimizer = optim.Adam(model.parameters(), lr=learning_rate)\n",
    "batch_num = len(train_dataloader)\n",
    "test_num = len(test_dataset)"
   ]
  },
  {
   "cell_type": "code",
   "execution_count": 32,
   "id": "c8e5ecd6",
   "metadata": {},
   "outputs": [
    {
     "name": "stderr",
     "output_type": "stream",
     "text": [
      "/opt/anaconda3/lib/python3.8/site-packages/torch/nn/functional.py:718: UserWarning: Named tensors and all their associated APIs are an experimental feature and subject to change. Please do not use them for anything important until they are released as stable. (Triggered internally at  ../c10/core/TensorImpl.h:1156.)\n",
      "  return torch.max_pool2d(input, kernel_size, stride, padding, dilation, ceil_mode)\n"
     ]
    },
    {
     "name": "stdout",
     "output_type": "stream",
     "text": [
      "Epoch: [1 / 10]  Loss: 0.09828828\n",
      "Epoch: [2 / 10]  Loss: 0.02086086\n",
      "Acc_num: 9618, Accuracy: 0.9618\n",
      "Epoch: [3 / 10]  Loss: 0.116516529\n",
      "Epoch: [4 / 10]  Loss: 0.087787784\n",
      "Acc_num: 9643, Accuracy: 0.9643\n",
      "Epoch: [5 / 10]  Loss: 0.21191198\n",
      "Epoch: [6 / 10]  Loss: 0.01037037\n",
      "Acc_num: 9748, Accuracy: 0.9748\n",
      "Epoch: [7 / 10]  Loss: 0.01152152\n",
      "Epoch: [8 / 10]  Loss: 0.049769765\n",
      "Acc_num: 9731, Accuracy: 0.9731\n",
      "Epoch: [9 / 10]  Loss: 0.217217297\n",
      "Epoch: [10 / 10]  Loss: 0.03818182\n",
      "Acc_num: 9676, Accuracy: 0.9676\n"
     ]
    }
   ],
   "source": [
    "for epoch in range(epochs):\n",
    "    #训练模型\n",
    "    model.train()\n",
    "    for i, data in enumerate(train_dataloader):\n",
    "        # data-->tuple:(imgs, labels)\n",
    "        imgs, labels = data\n",
    "        outputs = model(imgs.to(device))\n",
    "        loss = criterion(outputs, labels.to(device))\n",
    "        \n",
    "        # 清空参数梯度\n",
    "        optimizer.zero_grad()                                                  \n",
    "        # 反向传播\n",
    "        loss.backward()\n",
    "        # 更新参数\n",
    "        optimizer.step()\n",
    "        \n",
    "        if (i+1) % 125 == 0:\n",
    "            print('Step: [{} / {}] Loss: {:.4}'.format(i+1, batch_num, loss.item()), end='\\r', flush=True)\n",
    "            \n",
    "    print('Epoch: [{} / {}]  Loss: {:.4}'.format(epoch+1, epochs, loss.item()))\n",
    "    \n",
    "    if (epoch+1)%2 == 0:\n",
    "        # 验证模型\n",
    "        model.eval()\n",
    "        # 正确预测的数目\n",
    "        acc_num = 0\n",
    "        with torch.no_grad():\n",
    "            for i, data in enumerate(test_dataloader):\n",
    "                t_imgs, t_labels = data\n",
    "                outputs = model(t_imgs.to(device))\n",
    "                # outputs ---> shape:[32, 10]\n",
    "                predicts = torch.max(outputs, dim=1)[1]\n",
    "                # 统计所有正确预测的数量\n",
    "                acc_num += torch.eq(predicts, t_labels.to(device)).sum().item()\n",
    "                print('Test Progress: [{} / {}]'.format(i+1, len(test_dataloader)), end='\\r', flush=True)\n",
    "                \n",
    "            print('Acc_num: {}, Accuracy: {请:.4}'.format(acc_num, acc_num / test_num))\n",
    "\n",
    "# 保存网络模型\n",
    "torch.save(model.state_dict(), 'LeNet.pth')    "
   ]
  },
  {
   "cell_type": "code",
   "execution_count": 33,
   "id": "ffeafd34",
   "metadata": {},
   "outputs": [
    {
     "name": "stdout",
     "output_type": "stream",
     "text": [
      "<class 'torch.Tensor'>\n",
      "<class 'int'>\n"
     ]
    }
   ],
   "source": [
    "a = torch.tensor([5])\n",
    "print(type(a))\n",
    "print(type(a.item()))"
   ]
  },
  {
   "cell_type": "code",
   "execution_count": 34,
   "id": "6f7fa6af",
   "metadata": {
    "scrolled": true
   },
   "outputs": [
    {
     "name": "stdout",
     "output_type": "stream",
     "text": [
      "99\r"
     ]
    }
   ],
   "source": [
    "for i in range (100):\n",
    "    print(i, end='\\r', flush=True)"
   ]
  },
  {
   "cell_type": "code",
   "execution_count": 35,
   "id": "317f63c9",
   "metadata": {
    "scrolled": true
   },
   "outputs": [],
   "source": [
    "arr = torch.tensor([[1, 2, 3],\n",
    "                   [4, 5, 6]])"
   ]
  },
  {
   "cell_type": "code",
   "execution_count": 36,
   "id": "3cb30e87",
   "metadata": {},
   "outputs": [
    {
     "data": {
      "text/plain": [
       "tensor(6)"
      ]
     },
     "execution_count": 36,
     "metadata": {},
     "output_type": "execute_result"
    }
   ],
   "source": [
    "out = torch.max(arr)\n",
    "out"
   ]
  },
  {
   "cell_type": "code",
   "execution_count": 37,
   "id": "6b5641c3",
   "metadata": {},
   "outputs": [
    {
     "data": {
      "text/plain": [
       "torch.return_types.max(\n",
       "values=tensor([4, 5, 6]),\n",
       "indices=tensor([1, 1, 1]))"
      ]
     },
     "execution_count": 37,
     "metadata": {},
     "output_type": "execute_result"
    }
   ],
   "source": [
    "# dim = 0 ----> 1.返回每一列的最大值  2.返回最大值的行标\n",
    "out = torch.max(arr, dim=0)\n",
    "out"
   ]
  },
  {
   "cell_type": "code",
   "execution_count": 38,
   "id": "07f9db95",
   "metadata": {},
   "outputs": [
    {
     "data": {
      "text/plain": [
       "torch.return_types.max(\n",
       "values=tensor([3, 6]),\n",
       "indices=tensor([2, 2]))"
      ]
     },
     "execution_count": 38,
     "metadata": {},
     "output_type": "execute_result"
    }
   ],
   "source": [
    "# dim = 1----> 1.返回每一行的最大值  2.返回最大值的列标\n",
    "out = torch.max(arr, dim=1)\n",
    "out"
   ]
  },
  {
   "cell_type": "code",
   "execution_count": 39,
   "id": "5367db47",
   "metadata": {},
   "outputs": [
    {
     "data": {
      "text/plain": [
       "tensor([2, 2])"
      ]
     },
     "execution_count": 39,
     "metadata": {},
     "output_type": "execute_result"
    }
   ],
   "source": [
    "out = torch.max(arr, dim=1)[1]\n",
    "out"
   ]
  },
  {
   "cell_type": "code",
   "execution_count": 40,
   "id": "c9ef6957",
   "metadata": {},
   "outputs": [
    {
     "data": {
      "text/plain": [
       "tensor([ True, False,  True,  True])"
      ]
     },
     "execution_count": 40,
     "metadata": {},
     "output_type": "execute_result"
    }
   ],
   "source": [
    "# torch.eq()\n",
    "arr1 = torch.tensor([1, 2, 3, 4])\n",
    "arr2 = torch.tensor([1, 5, 3, 4])\n",
    "\n",
    "acc = torch.eq(arr1, arr2)\n",
    "acc"
   ]
  },
  {
   "cell_type": "code",
   "execution_count": 41,
   "id": "ae12ae81",
   "metadata": {},
   "outputs": [
    {
     "name": "stdout",
     "output_type": "stream",
     "text": [
      "tensor(3)\n",
      "<class 'torch.Tensor'>\n",
      "<class 'int'>\n"
     ]
    }
   ],
   "source": [
    "print(acc.sum())\n",
    "print(type(acc.sum()))\n",
    "print(type(acc.sum().item()))"
   ]
  },
  {
   "cell_type": "markdown",
   "id": "fb60f125",
   "metadata": {},
   "source": [
    "# 测试模型"
   ]
  },
  {
   "cell_type": "code",
   "execution_count": 42,
   "id": "1380fbf0",
   "metadata": {},
   "outputs": [],
   "source": [
    "import cv2 as cv"
   ]
  },
  {
   "cell_type": "code",
   "execution_count": 43,
   "id": "428e0bfb",
   "metadata": {},
   "outputs": [
    {
     "data": {
      "text/plain": [
       "LeNet(\n",
       "  (conv1): Conv2d(1, 16, kernel_size=(5, 5), stride=(1, 1))\n",
       "  (pool2): MaxPool2d(kernel_size=2, stride=2, padding=0, dilation=1, ceil_mode=False)\n",
       "  (conv3): Conv2d(16, 32, kernel_size=(5, 5), stride=(1, 1))\n",
       "  (pool4): MaxPool2d(kernel_size=2, stride=2, padding=0, dilation=1, ceil_mode=False)\n",
       "  (fc5): Linear(in_features=512, out_features=128, bias=True)\n",
       "  (fc6): Linear(in_features=128, out_features=64, bias=True)\n",
       "  (fc7): Linear(in_features=64, out_features=10, bias=True)\n",
       ")"
      ]
     },
     "execution_count": 43,
     "metadata": {},
     "output_type": "execute_result"
    }
   ],
   "source": [
    "model"
   ]
  },
  {
   "cell_type": "code",
   "execution_count": 44,
   "id": "d48f2dc2",
   "metadata": {},
   "outputs": [
    {
     "name": "stdout",
     "output_type": "stream",
     "text": [
      "RGB\n"
     ]
    },
    {
     "data": {
      "image/png": "[encoded data removed]",
      "text/plain": [
       "<PIL.JpegImagePlugin.JpegImageFile image mode=RGB size=577x577 at 0x127014E20>"
      ]
     },
     "execution_count": 44,
     "metadata": {},
     "output_type": "execute_result"
    }
   ],
   "source": [
    "# 加载图像\n",
    "img = Image.open('test.jpg')\n",
    "print(img.mode)\n",
    "img"
   ]
  },
  {
   "cell_type": "code",
   "execution_count": 45,
   "id": "98ec8682",
   "metadata": {},
   "outputs": [
    {
     "name": "stdout",
     "output_type": "stream",
     "text": [
      "L\n",
      "(577, 577)\n",
      "<class 'PIL.Image.Image'>\n"
     ]
    }
   ],
   "source": [
    "# 更改通道\n",
    "img = img.convert('L')\n",
    "print(img.mode)\n",
    "print(img.size)\n",
    "print(type(img))"
   ]
  },
  {
   "cell_type": "code",
   "execution_count": 46,
   "id": "0274ce0f",
   "metadata": {},
   "outputs": [
    {
     "name": "stdout",
     "output_type": "stream",
     "text": [
      "(28, 28)\n"
     ]
    },
    {
     "data": {
      "image/png": "[encoded data removed]",
      "text/plain": [
       "<PIL.Image.Image image mode=L size=28x28 at 0x126FC1BB0>"
      ]
     },
     "execution_count": 46,
     "metadata": {},
     "output_type": "execute_result"
    }
   ],
   "source": [
    "img = img.resize((28, 28), Image.ANTIALIAS)\n",
    "print(img.size)\n",
    "img"
   ]
  },
  {
   "cell_type": "code",
   "execution_count": 47,
   "id": "dae3d68d",
   "metadata": {},
   "outputs": [
    {
     "ename": "error",
     "evalue": "OpenCV(4.5.3) /private/var/folders/lk/d38n3d_93r196smzprgj2z7c0000gn/T/pip-install-17m3g67i/opencv-python_f0a11c6790fd49df942a122cb007b331/opencv/modules/imgproc/src/color.simd_helpers.hpp:92: error: (-2:Unspecified error) in function 'cv::impl::(anonymous namespace)::CvtHelper<cv::impl::(anonymous namespace)::Set<3, 4, -1>, cv::impl::(anonymous namespace)::Set<1, -1, -1>, cv::impl::(anonymous namespace)::Set<0, 2, 5>, cv::impl::(anonymous namespace)::NONE>::CvtHelper(cv::InputArray, cv::OutputArray, int) [VScn = cv::impl::(anonymous namespace)::Set<3, 4, -1>, VDcn = cv::impl::(anonymous namespace)::Set<1, -1, -1>, VDepth = cv::impl::(anonymous namespace)::Set<0, 2, 5>, sizePolicy = cv::impl::(anonymous namespace)::NONE]'\n> Invalid number of channels in input image:\n>     'VScn::contains(scn)'\n> where\n>     'scn' is 1\n",
     "output_type": "error",
     "traceback": [
      "\u001b[0;31m---------------------------------------------------------------------------\u001b[0m",
      "\u001b[0;31merror\u001b[0m                                     Traceback (most recent call last)",
      "\u001b[0;32m<ipython-input-47-d93a384025c5>\u001b[0m in \u001b[0;36m<module>\u001b[0;34m\u001b[0m\n\u001b[1;32m      1\u001b[0m \u001b[0mimg\u001b[0m \u001b[0;34m=\u001b[0m \u001b[0mnp\u001b[0m\u001b[0;34m.\u001b[0m\u001b[0marray\u001b[0m\u001b[0;34m(\u001b[0m\u001b[0mimg\u001b[0m\u001b[0;34m)\u001b[0m\u001b[0;34m\u001b[0m\u001b[0;34m\u001b[0m\u001b[0m\n\u001b[0;32m----> 2\u001b[0;31m \u001b[0mgray\u001b[0m \u001b[0;34m=\u001b[0m \u001b[0mcv\u001b[0m\u001b[0;34m.\u001b[0m\u001b[0mcvtColor\u001b[0m\u001b[0;34m(\u001b[0m\u001b[0mimg\u001b[0m\u001b[0;34m,\u001b[0m \u001b[0mcv\u001b[0m\u001b[0;34m.\u001b[0m\u001b[0mCOLOR_BGR2GRAY\u001b[0m\u001b[0;34m)\u001b[0m\u001b[0;34m\u001b[0m\u001b[0;34m\u001b[0m\u001b[0m\n\u001b[0m\u001b[1;32m      3\u001b[0m \u001b[0mretval\u001b[0m\u001b[0;34m,\u001b[0m \u001b[0mres\u001b[0m \u001b[0;34m=\u001b[0m \u001b[0mcv\u001b[0m\u001b[0;34m.\u001b[0m\u001b[0mthreshold\u001b[0m\u001b[0;34m(\u001b[0m\u001b[0mgray\u001b[0m\u001b[0;34m,\u001b[0m \u001b[0;36m127\u001b[0m\u001b[0;34m,\u001b[0m \u001b[0;36m255\u001b[0m\u001b[0;34m,\u001b[0m \u001b[0mcv\u001b[0m\u001b[0;34m.\u001b[0m\u001b[0mTHRESH_BINARY\u001b[0m\u001b[0;34m)\u001b[0m\u001b[0;34m\u001b[0m\u001b[0;34m\u001b[0m\u001b[0m\n\u001b[1;32m      4\u001b[0m \u001b[0mres\u001b[0m \u001b[0;34m=\u001b[0m \u001b[0mImage\u001b[0m\u001b[0;34m.\u001b[0m\u001b[0mfromarray\u001b[0m\u001b[0;34m(\u001b[0m\u001b[0mres\u001b[0m\u001b[0;34m)\u001b[0m\u001b[0;34m\u001b[0m\u001b[0;34m\u001b[0m\u001b[0m\n\u001b[1;32m      5\u001b[0m \u001b[0mres\u001b[0m\u001b[0;34m\u001b[0m\u001b[0;34m\u001b[0m\u001b[0m\n",
      "\u001b[0;31merror\u001b[0m: OpenCV(4.5.3) /private/var/folders/lk/d38n3d_93r196smzprgj2z7c0000gn/T/pip-install-17m3g67i/opencv-python_f0a11c6790fd49df942a122cb007b331/opencv/modules/imgproc/src/color.simd_helpers.hpp:92: error: (-2:Unspecified error) in function 'cv::impl::(anonymous namespace)::CvtHelper<cv::impl::(anonymous namespace)::Set<3, 4, -1>, cv::impl::(anonymous namespace)::Set<1, -1, -1>, cv::impl::(anonymous namespace)::Set<0, 2, 5>, cv::impl::(anonymous namespace)::NONE>::CvtHelper(cv::InputArray, cv::OutputArray, int) [VScn = cv::impl::(anonymous namespace)::Set<3, 4, -1>, VDcn = cv::impl::(anonymous namespace)::Set<1, -1, -1>, VDepth = cv::impl::(anonymous namespace)::Set<0, 2, 5>, sizePolicy = cv::impl::(anonymous namespace)::NONE]'\n> Invalid number of channels in input image:\n>     'VScn::contains(scn)'\n> where\n>     'scn' is 1\n"
     ]
    }
   ],
   "source": [
    "img = np.array(img)\n",
    "gray = cv.cvtColor(img, cv.COLOR_BGR2GRAY)\n",
    "retval, res = cv.threshold(gray, 127, 255, cv.THRESH_BINARY)\n",
    "res = Image.fromarray(res)\n",
    "res"
   ]
  },
  {
   "cell_type": "code",
   "execution_count": null,
   "id": "5b0f364f",
   "metadata": {},
   "outputs": [],
   "source": [
    "tmp = np.array(res)\n",
    "tmp"
   ]
  },
  {
   "cell_type": "code",
   "execution_count": null,
   "id": "f244ba8c",
   "metadata": {},
   "outputs": [],
   "source": [
    "for i in range(28):\n",
    "    for j in range(28):\n",
    "        if tmp[i][j] == 255:\n",
    "            tmp[i][j]=0\n",
    "        else:\n",
    "            tmp[i][j]=255\n"
   ]
  },
  {
   "cell_type": "code",
   "execution_count": null,
   "id": "b73be957",
   "metadata": {},
   "outputs": [],
   "source": [
    "tmp = ~tmp"
   ]
  },
  {
   "cell_type": "code",
   "execution_count": null,
   "id": "9eac54b8",
   "metadata": {},
   "outputs": [],
   "source": [
    "img = Image.fromarray(tmp)\n",
    "img"
   ]
  },
  {
   "cell_type": "code",
   "execution_count": null,
   "id": "3025fd2d",
   "metadata": {},
   "outputs": [],
   "source": [
    "print(type(img))\n",
    "img = transform(img)\n",
    "print(type(img))"
   ]
  },
  {
   "cell_type": "code",
   "execution_count": null,
   "id": "c3fa1bdf",
   "metadata": {},
   "outputs": [],
   "source": [
    "# input : [batch_size, channel, width, height]\n",
    "print(img.shape)\n",
    "new_img = img.unsqueeze(0)\n",
    "print(new_img.shape)"
   ]
  },
  {
   "cell_type": "code",
   "execution_count": null,
   "id": "a09d2de7",
   "metadata": {},
   "outputs": [],
   "source": [
    "model.eval()\n",
    "with torch.no_grad():\n",
    "    out = model(new_img.to(device))\n",
    "    pre = torch.max(out, dim=1)[1]\n",
    "    print(pre)"
   ]
  },
  {
   "cell_type": "code",
   "execution_count": null,
   "id": "f1eaf2b2",
   "metadata": {},
   "outputs": [],
   "source": [
    "# 加载.pth模型文件\n",
    "net = LeNet(10)\n",
    "net.load_state_dict(torch.load('LeNet.pth'))\n",
    "net"
   ]
  },
  {
   "cell_type": "code",
   "execution_count": null,
   "id": "710a2338",
   "metadata": {},
   "outputs": [],
   "source": [
    "with torch.no_grad():\n",
    "    out = net(new_img)\n",
    "    pre = torch.max(out, dim=1)[1]\n",
    "    print(pre[0].item())"
   ]
  }
 ],
 "metadata": {
  "kernelspec": {
   "display_name": "Python 3",
   "language": "python",
   "name": "python3"
  },
  "language_info": {
   "codemirror_mode": {
    "name": "ipython",
    "version": 3
   },
   "file_extension": ".py",
   "mimetype": "text/x-python",
   "name": "python",
   "nbconvert_exporter": "python",
   "pygments_lexer": "ipython3",
   "version": "3.8.8"
  }
 },
 "nbformat": 4,
 "nbformat_minor": 5
}
